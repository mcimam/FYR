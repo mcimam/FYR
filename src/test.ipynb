{
 "cells": [
  {
   "cell_type": "code",
   "execution_count": 1,
   "metadata": {},
   "outputs": [],
   "source": [
    "from models import *\n",
    "from crawler import TiktokAnalyticAuto\n",
    "import pandas as pd\n",
    "import re\n",
    "from datetime import datetime"
   ]
  },
  {
   "cell_type": "code",
   "execution_count": 2,
   "metadata": {},
   "outputs": [
    {
     "data": {
      "text/plain": [
       "<pony.orm.core.Database at 0x7fa06b04f890>"
      ]
     },
     "execution_count": 2,
     "metadata": {},
     "output_type": "execute_result"
    }
   ],
   "source": [
    "db_setup(mode='dev')\n"
   ]
  },
  {
   "cell_type": "code",
   "execution_count": 3,
   "metadata": {},
   "outputs": [],
   "source": [
    "# Define Constanta Path\n",
    "result_path = '/home/mcimam/PersonalProject/Fyr/result/'\n",
    "\n",
    "# Get File method\n",
    "def getFile(fl_object:FileLog, base_path:str):\n",
    "    path_xlsx = base_path + fl_object.name \n",
    "    df = pd.read_excel(path_xlsx, skiprows=2)\n",
    "    return df \n",
    "\n",
    "def getFileMetadata(fl_object:FileLog, base_path:str):\n",
    "    path_xlsx = base_path + fl_object.name \n",
    "    df = pd.read_excel(path_xlsx, skiprows=0, header=None)\n",
    "    date_range = df.iloc[0,0]\n",
    "    date_range = re.sub(r\"[^0-9,~-]\",\"\",date_range)\n",
    "    date_start,date_end = date_range.split(\"~\")\n",
    "    return {\n",
    "        \"date_start\": date_start,\n",
    "        \"date_end\":date_end\n",
    "        }"
   ]
  },
  {
   "cell_type": "code",
   "execution_count": 4,
   "metadata": {},
   "outputs": [],
   "source": [
    "for fi in Video.select():\n",
    "    print(fi)"
   ]
  },
  {
   "cell_type": "code",
   "execution_count": 5,
   "metadata": {},
   "outputs": [],
   "source": [
    "path_xlsx = result_path  + FileLog[5].name\n",
    "df = pd.read_excel(path_xlsx, skiprows=0, header=None)\n",
    "date_range = df.iloc[0,0]\n",
    "date_range = re.sub(r\"[^0-9,~-]\",\"\",date_range)\n",
    "date_start,date_end = date_range.split(\"~\")"
   ]
  },
  {
   "cell_type": "code",
   "execution_count": 16,
   "metadata": {},
   "outputs": [
    {
     "name": "stdout",
     "output_type": "stream",
     "text": [
      "Index(['ID', 'Product Name', 'Revenue (Rp)', 'Buyers', 'Product sales',\n",
      "       'Orders', 'Livestream revenue (Rp)', 'Livestream orders',\n",
      "       'Livestream buyers', 'Livestream product sales',\n",
      "       'Livestream product viewers', 'Users clicking livestream products',\n",
      "       'Livestream product impressions', 'Livestream product clicks',\n",
      "       'Livestream product CTR', 'Livestream product CO rate',\n",
      "       'Video revenue (Rp)', 'Video orders', 'Video buyers',\n",
      "       'Video product sales', 'Video product viewers',\n",
      "       'Users clicking video products', 'Video product impressions',\n",
      "       'Video product clicks', 'Video product CTR', 'Video product CO rate'],\n",
      "      dtype='object')\n"
     ]
    },
    {
     "data": {
      "text/plain": [
       "{'date_start': '2023-06-17', 'date_end': '2023-06-17'}"
      ]
     },
     "execution_count": 16,
     "metadata": {},
     "output_type": "execute_result"
    }
   ],
   "source": [
    "f1 = FileLog[5]\n",
    "d1 = getFile(f1,result_path)\n",
    "md = getFileMetadata(f1,result_path)\n",
    "print(d1.keys())\n",
    "d1.iloc[0,:]\n",
    "md"
   ]
  },
  {
   "cell_type": "code",
   "execution_count": 27,
   "metadata": {},
   "outputs": [],
   "source": [
    "@orm.db_session\n",
    "def upsertCreator(id:int,name:str,nickname:str) -> Creator:\n",
    "    \"\"\"Upsert Creator Function\n",
    "\n",
    "    Args:\n",
    "        id (int): creator id\n",
    "        name (str): creator name\n",
    "        nickname (str): cretor nicknames\n",
    "\n",
    "    Returns:\n",
    "        Creator: Creator Objects\n",
    "    \"\"\"\n",
    "    # upsert data\n",
    "    creator = Creator.get(nickname=nickname)\n",
    "    if not creator:\n",
    "        creator = Creator(id=int(id))\n",
    "    creator.name = str(name)\n",
    "    creator.nickname = str(nickname)\n",
    "    orm.flush()\n",
    "    return creator\n",
    "\n",
    "@orm.db_session\n",
    "def upsertVideo(id:int,info:str) -> Video:\n",
    "    \"\"\"Upsert Video Function\n",
    "\n",
    "    Args:\n",
    "        id (int): id\n",
    "        info (str): vide detail\n",
    "\n",
    "    Returns:\n",
    "        Video: Video Objects\n",
    "    \"\"\"\n",
    "    # upsert data\n",
    "    dt = Video.get(id=id)\n",
    "    if not dt:\n",
    "        dt = Video(id=int(id))\n",
    "    dt.info = str(info)\n",
    "    orm.flush()\n",
    "    return dt\n",
    "\n",
    "@orm.db_session\n",
    "def upsertProduct(id:int,name:str) -> Product:\n",
    "    \"\"\"Upsert Creator Function\n",
    "\n",
    "    Args:\n",
    "        id (int): product id\n",
    "        name (str): product name\n",
    "\n",
    "    Returns:\n",
    "        Product: product Objects\n",
    "    \"\"\"\n",
    "    # upsert data\n",
    "    print('--------')\n",
    "    print(id)\n",
    "    dt = Product.get(id=id)\n",
    "    if not dt:\n",
    "        dt = Product(id=int(id), name=str(name))\n",
    "    dt.info = str(name)\n",
    "    orm.flush()\n",
    "    return dt\n",
    "\n",
    "\n",
    "def convertPercentToFloat(number:str) -> float:\n",
    "    \"\"\"Converting Percent string to float (ex:69.69% -> 69.69)\n",
    "\n",
    "    Args:\n",
    "        number (str): string of percent\n",
    "\n",
    "    Returns:\n",
    "        float: \n",
    "    \"\"\"\n",
    "    if not number:\n",
    "        return 0 \n",
    "    return float(re.sub(r\"[^0-9.eE-]\", \"\", number))\n",
    "\n",
    "def convertTimeToSecond(time_string:str) -> int:\n",
    "    \"\"\"Converiting string of hours and minutes to string\n",
    "\n",
    "    Args:\n",
    "        time_string (str): ex: \"1hr 24mnt\", \"24 mnt\", \"1hr\"\n",
    "\n",
    "    Returns:\n",
    "        int: _description_\n",
    "    \"\"\"\n",
    "    if \"h\" in time_string:\n",
    "        hour_str, minute_str = time_string.split(\" \")\n",
    "        hour = int(re.sub(r\"[^0-9]\",\"\",hour_str))\n",
    "        minute = int(re.sub(r\"[^0-9]\",\"\",minute_str))\n",
    "        seconds = hour * 3600 + minute * 60\n",
    "    else:\n",
    "        minute_str = int(time_string)\n",
    "        seconds = int(re.sub(r\"[^0-9]\",\"\",minute_str))* 60\n",
    "\n",
    "    return seconds\n",
    "\n"
   ]
  },
  {
   "cell_type": "code",
   "execution_count": 29,
   "metadata": {},
   "outputs": [
    {
     "name": "stdout",
     "output_type": "stream",
     "text": [
      "--------\n",
      "1729384826829178211\n"
     ]
    },
    {
     "ename": "ValueError",
     "evalue": "Attribute ProductData.id is required",
     "output_type": "error",
     "traceback": [
      "\u001b[0;31m---------------------------------------------------------------------------\u001b[0m",
      "\u001b[0;31mValueError\u001b[0m                                Traceback (most recent call last)",
      "Cell \u001b[0;32mIn[29], line 76\u001b[0m\n\u001b[1;32m     48\u001b[0m     pd \u001b[39m=\u001b[39m ProductData(\n\u001b[1;32m     49\u001b[0m             product \u001b[39m=\u001b[39m product,\n\u001b[1;32m     50\u001b[0m             revenue \u001b[39m=\u001b[39m \u001b[39mint\u001b[39m(dt\u001b[39m.\u001b[39mget(\u001b[39m'\u001b[39m\u001b[39mRevenue (Rp)\u001b[39m\u001b[39m'\u001b[39m)),\n\u001b[0;32m   (...)\u001b[0m\n\u001b[1;32m     70\u001b[0m \n\u001b[1;32m     71\u001b[0m     )\n\u001b[1;32m     73\u001b[0m \u001b[39mfor\u001b[39;00m i,d \u001b[39min\u001b[39;00m d1\u001b[39m.\u001b[39miterrows():\n\u001b[1;32m     74\u001b[0m     \u001b[39m# insertLiveData(d)\u001b[39;00m\n\u001b[0;32m---> 76\u001b[0m     insertProductData(d)\n",
      "File \u001b[0;32m<string>:2\u001b[0m, in \u001b[0;36minsertProductData\u001b[0;34m(dt)\u001b[0m\n",
      "File \u001b[0;32m~/miniconda3/envs/fyr/lib/python3.11/site-packages/pony/orm/core.py:519\u001b[0m, in \u001b[0;36mDBSessionContextManager._wrap_function.<locals>.new_func\u001b[0;34m(func, *args, **kwargs)\u001b[0m\n\u001b[1;32m    517\u001b[0m exc_type \u001b[39m=\u001b[39m exc \u001b[39m=\u001b[39m tb \u001b[39m=\u001b[39m \u001b[39mNone\u001b[39;00m\n\u001b[1;32m    518\u001b[0m \u001b[39mtry\u001b[39;00m:\n\u001b[0;32m--> 519\u001b[0m     result \u001b[39m=\u001b[39m func(\u001b[39m*\u001b[39;49margs, \u001b[39m*\u001b[39;49m\u001b[39m*\u001b[39;49mkwargs)\n\u001b[1;32m    520\u001b[0m     commit()\n\u001b[1;32m    521\u001b[0m     \u001b[39mreturn\u001b[39;00m result\n",
      "Cell \u001b[0;32mIn[29], line 48\u001b[0m, in \u001b[0;36minsertProductData\u001b[0;34m(dt)\u001b[0m\n\u001b[1;32m     42\u001b[0m \u001b[39m@orm\u001b[39m\u001b[39m.\u001b[39mdb_session\n\u001b[1;32m     43\u001b[0m \u001b[39mdef\u001b[39;00m \u001b[39minsertProductData\u001b[39m(dt):\n\u001b[1;32m     44\u001b[0m     product \u001b[39m=\u001b[39m upsertProduct(\n\u001b[1;32m     45\u001b[0m         \u001b[39mid\u001b[39m \u001b[39m=\u001b[39m dt[\u001b[39m'\u001b[39m\u001b[39mID\u001b[39m\u001b[39m'\u001b[39m],\n\u001b[1;32m     46\u001b[0m         name \u001b[39m=\u001b[39m dt\u001b[39m.\u001b[39mget(\u001b[39m'\u001b[39m\u001b[39mProduct Name\u001b[39m\u001b[39m'\u001b[39m)\n\u001b[1;32m     47\u001b[0m     )\n\u001b[0;32m---> 48\u001b[0m     pd \u001b[39m=\u001b[39m ProductData(\n\u001b[1;32m     49\u001b[0m             product \u001b[39m=\u001b[39;49m product,\n\u001b[1;32m     50\u001b[0m             revenue \u001b[39m=\u001b[39;49m \u001b[39mint\u001b[39;49m(dt\u001b[39m.\u001b[39;49mget(\u001b[39m'\u001b[39;49m\u001b[39mRevenue (Rp)\u001b[39;49m\u001b[39m'\u001b[39;49m)),\n\u001b[1;32m     51\u001b[0m             buyer \u001b[39m=\u001b[39;49m \u001b[39mint\u001b[39;49m(dt\u001b[39m.\u001b[39;49mget(\u001b[39m'\u001b[39;49m\u001b[39mBuyers\u001b[39;49m\u001b[39m'\u001b[39;49m)),\n\u001b[1;32m     52\u001b[0m             sale \u001b[39m=\u001b[39;49m \u001b[39mint\u001b[39;49m(dt\u001b[39m.\u001b[39;49mget(\u001b[39m'\u001b[39;49m\u001b[39mProduct sales\u001b[39;49m\u001b[39m'\u001b[39;49m)),\n\u001b[1;32m     53\u001b[0m             order \u001b[39m=\u001b[39;49m \u001b[39mint\u001b[39;49m(dt\u001b[39m.\u001b[39;49mget(\u001b[39m'\u001b[39;49m\u001b[39mOrders\u001b[39;49m\u001b[39m'\u001b[39;49m)),\n\u001b[1;32m     54\u001b[0m             \u001b[39m# Livestream so\u001b[39;49;00m\n\u001b[1;32m     55\u001b[0m             live_buyer \u001b[39m=\u001b[39;49m \u001b[39mint\u001b[39;49m(dt\u001b[39m.\u001b[39;49mget(\u001b[39m'\u001b[39;49m\u001b[39mLivestream buyers\u001b[39;49m\u001b[39m'\u001b[39;49m)),\n\u001b[1;32m     56\u001b[0m             live_sale \u001b[39m=\u001b[39;49m \u001b[39mint\u001b[39;49m(dt\u001b[39m.\u001b[39;49mget(\u001b[39m'\u001b[39;49m\u001b[39mLivestream product sales\u001b[39;49m\u001b[39m'\u001b[39;49m)),\n\u001b[1;32m     57\u001b[0m             live_viewer \u001b[39m=\u001b[39;49m \u001b[39mint\u001b[39;49m(dt\u001b[39m.\u001b[39;49mget(\u001b[39m'\u001b[39;49m\u001b[39mLivestream product viewers\u001b[39;49m\u001b[39m'\u001b[39;49m)),\n\u001b[1;32m     58\u001b[0m             live_click \u001b[39m=\u001b[39;49m \u001b[39mint\u001b[39;49m(dt\u001b[39m.\u001b[39;49mget(\u001b[39m'\u001b[39;49m\u001b[39mLivestream product clicks\u001b[39;49m\u001b[39m'\u001b[39;49m)),\n\u001b[1;32m     59\u001b[0m             live_impression \u001b[39m=\u001b[39;49m \u001b[39mint\u001b[39;49m(dt\u001b[39m.\u001b[39;49mget(\u001b[39m'\u001b[39;49m\u001b[39mLivestream product impressions\u001b[39;49m\u001b[39m'\u001b[39;49m)),\n\u001b[1;32m     60\u001b[0m             live_ctr \u001b[39m=\u001b[39;49m convertPercentToFloat(dt\u001b[39m.\u001b[39;49mget(\u001b[39m'\u001b[39;49m\u001b[39mLivestream product CTR\u001b[39;49m\u001b[39m'\u001b[39;49m)),\n\u001b[1;32m     61\u001b[0m             live_co \u001b[39m=\u001b[39;49m convertPercentToFloat(dt\u001b[39m.\u001b[39;49mget(\u001b[39m'\u001b[39;49m\u001b[39mLivestream product CO rate\u001b[39;49m\u001b[39m'\u001b[39;49m)),\n\u001b[1;32m     62\u001b[0m             \u001b[39m# Video source\u001b[39;49;00m\n\u001b[1;32m     63\u001b[0m             video_buyer \u001b[39m=\u001b[39;49m \u001b[39mint\u001b[39;49m(dt\u001b[39m.\u001b[39;49mget(\u001b[39m'\u001b[39;49m\u001b[39mVideo buyers\u001b[39;49m\u001b[39m'\u001b[39;49m)),\n\u001b[1;32m     64\u001b[0m             video_sale \u001b[39m=\u001b[39;49m \u001b[39mint\u001b[39;49m(dt\u001b[39m.\u001b[39;49mget(\u001b[39m'\u001b[39;49m\u001b[39mVideo product sales\u001b[39;49m\u001b[39m'\u001b[39;49m)),\n\u001b[1;32m     65\u001b[0m             video_viewer \u001b[39m=\u001b[39;49m \u001b[39mint\u001b[39;49m(dt\u001b[39m.\u001b[39;49mget(\u001b[39m'\u001b[39;49m\u001b[39mVideo product viewers\u001b[39;49m\u001b[39m'\u001b[39;49m)),\n\u001b[1;32m     66\u001b[0m             video_click \u001b[39m=\u001b[39;49m \u001b[39mint\u001b[39;49m(dt\u001b[39m.\u001b[39;49mget(\u001b[39m'\u001b[39;49m\u001b[39mVideo product clicks\u001b[39;49m\u001b[39m'\u001b[39;49m)),\n\u001b[1;32m     67\u001b[0m             video_impression \u001b[39m=\u001b[39;49m \u001b[39mint\u001b[39;49m(dt\u001b[39m.\u001b[39;49mget(\u001b[39m'\u001b[39;49m\u001b[39mVideo product impressions\u001b[39;49m\u001b[39m'\u001b[39;49m)),\n\u001b[1;32m     68\u001b[0m             video_ctr \u001b[39m=\u001b[39;49m convertPercentToFloat(dt\u001b[39m.\u001b[39;49mget(\u001b[39m'\u001b[39;49m\u001b[39mVideo product CTR\u001b[39;49m\u001b[39m'\u001b[39;49m)),\n\u001b[1;32m     69\u001b[0m             video_co \u001b[39m=\u001b[39;49m convertPercentToFloat(dt\u001b[39m.\u001b[39;49mget(\u001b[39m'\u001b[39;49m\u001b[39mVideo product CO rate\u001b[39;49m\u001b[39m'\u001b[39;49m))\n\u001b[1;32m     70\u001b[0m \n\u001b[1;32m     71\u001b[0m     )\n",
      "File \u001b[0;32m<string>:2\u001b[0m, in \u001b[0;36m__init__\u001b[0;34m(obj, *args, **kwargs)\u001b[0m\n",
      "File \u001b[0;32m~/miniconda3/envs/fyr/lib/python3.11/site-packages/pony/utils/utils.py:57\u001b[0m, in \u001b[0;36mcut_traceback\u001b[0;34m(func, *args, **kwargs)\u001b[0m\n\u001b[1;32m     54\u001b[0m \u001b[39m@decorator\u001b[39m\n\u001b[1;32m     55\u001b[0m \u001b[39mdef\u001b[39;00m \u001b[39mcut_traceback\u001b[39m(func, \u001b[39m*\u001b[39margs, \u001b[39m*\u001b[39m\u001b[39m*\u001b[39mkwargs):\n\u001b[1;32m     56\u001b[0m     \u001b[39mif\u001b[39;00m \u001b[39mnot\u001b[39;00m options\u001b[39m.\u001b[39mCUT_TRACEBACK:\n\u001b[0;32m---> 57\u001b[0m         \u001b[39mreturn\u001b[39;00m func(\u001b[39m*\u001b[39;49margs, \u001b[39m*\u001b[39;49m\u001b[39m*\u001b[39;49mkwargs)\n\u001b[1;32m     59\u001b[0m     \u001b[39mtry\u001b[39;00m: \u001b[39mreturn\u001b[39;00m func(\u001b[39m*\u001b[39margs, \u001b[39m*\u001b[39m\u001b[39m*\u001b[39mkwargs)\n\u001b[1;32m     60\u001b[0m     \u001b[39mexcept\u001b[39;00m \u001b[39mAssertionError\u001b[39;00m: \u001b[39mraise\u001b[39;00m\n",
      "File \u001b[0;32m~/miniconda3/envs/fyr/lib/python3.11/site-packages/pony/orm/core.py:4706\u001b[0m, in \u001b[0;36mEntity.__init__\u001b[0;34m(obj, *args, **kwargs)\u001b[0m\n\u001b[1;32m   4704\u001b[0m \u001b[39mfor\u001b[39;00m attr \u001b[39min\u001b[39;00m entity\u001b[39m.\u001b[39m_attrs_:\n\u001b[1;32m   4705\u001b[0m     val \u001b[39m=\u001b[39m kwargs\u001b[39m.\u001b[39mget(attr\u001b[39m.\u001b[39mname, DEFAULT)\n\u001b[0;32m-> 4706\u001b[0m     avdict[attr] \u001b[39m=\u001b[39m attr\u001b[39m.\u001b[39;49mvalidate(val, obj, from_db\u001b[39m=\u001b[39;49m\u001b[39mFalse\u001b[39;49;00m)\n\u001b[1;32m   4707\u001b[0m \u001b[39mif\u001b[39;00m entity\u001b[39m.\u001b[39m_pk_is_composite_:\n\u001b[1;32m   4708\u001b[0m     pkval \u001b[39m=\u001b[39m \u001b[39mtuple\u001b[39m(\u001b[39mmap\u001b[39m(avdict\u001b[39m.\u001b[39mget, entity\u001b[39m.\u001b[39m_pk_attrs_))\n",
      "File \u001b[0;32m~/miniconda3/envs/fyr/lib/python3.11/site-packages/pony/orm/core.py:2537\u001b[0m, in \u001b[0;36mRequired.validate\u001b[0;34m(attr, val, obj, entity, from_db)\u001b[0m\n\u001b[1;32m   2535\u001b[0m \u001b[39mif\u001b[39;00m val \u001b[39m==\u001b[39m \u001b[39m'\u001b[39m\u001b[39m'\u001b[39m \u001b[39mor\u001b[39;00m (val \u001b[39mis\u001b[39;00m \u001b[39mNone\u001b[39;00m \u001b[39mand\u001b[39;00m \u001b[39mnot\u001b[39;00m (attr\u001b[39m.\u001b[39mauto \u001b[39mor\u001b[39;00m attr\u001b[39m.\u001b[39mis_volatile \u001b[39mor\u001b[39;00m attr\u001b[39m.\u001b[39msql_default)):\n\u001b[1;32m   2536\u001b[0m     \u001b[39mif\u001b[39;00m \u001b[39mnot\u001b[39;00m from_db:\n\u001b[0;32m-> 2537\u001b[0m         throw(\u001b[39mValueError\u001b[39;49;00m, \u001b[39m'\u001b[39;49m\u001b[39mAttribute \u001b[39;49m\u001b[39m%s\u001b[39;49;00m\u001b[39m is required\u001b[39;49m\u001b[39m'\u001b[39;49m \u001b[39m%\u001b[39;49m (\n\u001b[1;32m   2538\u001b[0m               attr \u001b[39mif\u001b[39;49;00m obj \u001b[39mis\u001b[39;49;00m \u001b[39mNone\u001b[39;49;00m \u001b[39mor\u001b[39;49;00m obj\u001b[39m.\u001b[39;49m_status_ \u001b[39mis\u001b[39;49;00m \u001b[39mNone\u001b[39;49;00m \u001b[39melse\u001b[39;49;00m \u001b[39m'\u001b[39;49m\u001b[39m%r\u001b[39;49;00m\u001b[39m.\u001b[39;49m\u001b[39m%s\u001b[39;49;00m\u001b[39m'\u001b[39;49m \u001b[39m%\u001b[39;49m (obj, attr\u001b[39m.\u001b[39;49mname)))\n\u001b[1;32m   2539\u001b[0m     \u001b[39melse\u001b[39;00m:\n\u001b[1;32m   2540\u001b[0m         warnings\u001b[39m.\u001b[39mwarn(\u001b[39m'\u001b[39m\u001b[39mDatabase contains \u001b[39m\u001b[39m%s\u001b[39;00m\u001b[39m for required attribute \u001b[39m\u001b[39m%s\u001b[39;00m\u001b[39m'\u001b[39m\n\u001b[1;32m   2541\u001b[0m                       \u001b[39m%\u001b[39m (\u001b[39m'\u001b[39m\u001b[39mNULL\u001b[39m\u001b[39m'\u001b[39m \u001b[39mif\u001b[39;00m val \u001b[39mis\u001b[39;00m \u001b[39mNone\u001b[39;00m \u001b[39melse\u001b[39;00m \u001b[39m'\u001b[39m\u001b[39mempty string\u001b[39m\u001b[39m'\u001b[39m, attr),\n\u001b[1;32m   2542\u001b[0m                       DatabaseContainsIncorrectEmptyValue)\n",
      "File \u001b[0;32m~/miniconda3/envs/fyr/lib/python3.11/site-packages/pony/utils/utils.py:99\u001b[0m, in \u001b[0;36mthrow\u001b[0;34m(exc_type, *args, **kwargs)\u001b[0m\n\u001b[1;32m     97\u001b[0m \u001b[39mtry\u001b[39;00m:\n\u001b[1;32m     98\u001b[0m     \u001b[39mif\u001b[39;00m \u001b[39mnot\u001b[39;00m (pony\u001b[39m.\u001b[39mMODE \u001b[39m==\u001b[39m \u001b[39m'\u001b[39m\u001b[39mINTERACTIVE\u001b[39m\u001b[39m'\u001b[39m \u001b[39mand\u001b[39;00m options\u001b[39m.\u001b[39mCUT_TRACEBACK):\n\u001b[0;32m---> 99\u001b[0m         \u001b[39mraise\u001b[39;00m exc\n\u001b[1;32m    100\u001b[0m     \u001b[39melse\u001b[39;00m:\n\u001b[1;32m    101\u001b[0m         \u001b[39mraise\u001b[39;00m exc  \u001b[39m# Set \"pony.options.CUT_TRACEBACK = False\" to see full traceback\u001b[39;00m\n",
      "\u001b[0;31mValueError\u001b[0m: Attribute ProductData.id is required"
     ]
    }
   ],
   "source": [
    "@orm.db_session\n",
    "def insertLiveData(dt):\n",
    "    # upsert creator\n",
    "    creator = upsertCreator(\n",
    "        id=dt.get(\"Creator ID\"), \n",
    "        name=dt.get('Creator'), \n",
    "        nickname=dt.get('Nickname'))\n",
    "    \n",
    "    #convert str to datetime\n",
    "    launched_time = datetime.strptime(d.get(\"Launched Time\"), \"%Y/%m/%d/ %H:%M\")\n",
    "    \n",
    "    # Insert Sales performace\n",
    "    ld = LiveData(\n",
    "        creator_id = creator,\n",
    "        launched_time = launched_time,\n",
    "        duration = convertTimeToSecond(dt.get(\"Duration\")),\n",
    "        # Sale performance\n",
    "        revenue = int(dt.get(\"Revenue (Rp)\")),\n",
    "        product_shown = int(dt.get(\"Products\")),\n",
    "        order_created = int(dt.get(\"Orders Created\")),\n",
    "        order_paid = int(dt.get(\"Orders Paid\")),\n",
    "        unit_sales = int(dt.get(\"Unit Sales\")),\n",
    "        buyer = int(dt.get(\"Buyers\")),\n",
    "        avg_price = int(dt.get(\"Average Price (Rp)\")),\n",
    "        co_rate= convertPercentToFloat(dt.get(\"CO Rate\")),\n",
    "        impression =int(dt.get(\"Product Impressions\")),\n",
    "        product_click=int(dt.get(\"Product Clicks\")),\n",
    "        ctr = convertPercentToFloat(dt.get(\"CTR\")),\n",
    "        # Live Peformance\n",
    "        viewer = int(dt.get(\"Viewers\")),\n",
    "        view = int(dt.get(\"Views\")),\n",
    "        acu = int(dt.get(\"ACU\")),\n",
    "        pcu = int(dt.get(\"PCU\")),\n",
    "        avg_view_duration = int(dt.get(\"Avg. Viewing Duration\")),\n",
    "        comment = int(dt.get(\"Comments\")),\n",
    "        share = int(dt.get(\"Shares\")),\n",
    "        like = int(dt.get(\"Likes\")),\n",
    "        new_follower = int(dt.get(\"New Followers\"))\n",
    "    )        \n",
    "    orm.flush()        \n",
    "    \n",
    "@orm.db_session\n",
    "def insertProductData(dt):\n",
    "    product = upsertProduct(\n",
    "        id = dt['ID'],\n",
    "        name = dt.get('Product Name')\n",
    "    )\n",
    "    pd = ProductData(\n",
    "            product = product,\n",
    "            revenue = int(dt.get('Revenue (Rp)')),\n",
    "            buyer = int(dt.get('Buyers')),\n",
    "            sale = int(dt.get('Product sales')),\n",
    "            order = int(dt.get('Orders')),\n",
    "            # Livestream so\n",
    "            live_buyer = int(dt.get('Livestream buyers')),\n",
    "            live_sale = int(dt.get('Livestream product sales')),\n",
    "            live_viewer = int(dt.get('Livestream product viewers')),\n",
    "            live_click = int(dt.get('Livestream product clicks')),\n",
    "            live_impression = int(dt.get('Livestream product impressions')),\n",
    "            live_ctr = convertPercentToFloat(dt.get('Livestream product CTR')),\n",
    "            live_co = convertPercentToFloat(dt.get('Livestream product CO rate')),\n",
    "            # Video source\n",
    "            video_buyer = int(dt.get('Video buyers')),\n",
    "            video_sale = int(dt.get('Video product sales')),\n",
    "            video_viewer = int(dt.get('Video product viewers')),\n",
    "            video_click = int(dt.get('Video product clicks')),\n",
    "            video_impression = int(dt.get('Video product impressions')),\n",
    "            video_ctr = convertPercentToFloat(dt.get('Video product CTR')),\n",
    "            video_co = convertPercentToFloat(dt.get('Video product CO rate'))\n",
    "\n",
    "    )\n",
    "    \n",
    "for i,d in d1.iterrows():\n",
    "    # insertLiveData(d)\n",
    "    # insertProductData(d)"
   ]
  },
  {
   "cell_type": "code",
   "execution_count": 55,
   "metadata": {},
   "outputs": [
    {
     "data": {
      "text/plain": [
       "6840"
      ]
     },
     "execution_count": 55,
     "metadata": {},
     "output_type": "execute_result"
    }
   ],
   "source": [
    "convertTimeToSecond(d[\"Duration\"])"
   ]
  }
 ],
 "metadata": {
  "kernelspec": {
   "display_name": "fyr",
   "language": "python",
   "name": "python3"
  },
  "language_info": {
   "codemirror_mode": {
    "name": "ipython",
    "version": 3
   },
   "file_extension": ".py",
   "mimetype": "text/x-python",
   "name": "python",
   "nbconvert_exporter": "python",
   "pygments_lexer": "ipython3",
   "version": "3.11.3"
  },
  "orig_nbformat": 4
 },
 "nbformat": 4,
 "nbformat_minor": 2
}
